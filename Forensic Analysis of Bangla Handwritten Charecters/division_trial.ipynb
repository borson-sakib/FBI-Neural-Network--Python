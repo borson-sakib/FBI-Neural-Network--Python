{
  "nbformat": 4,
  "nbformat_minor": 0,
  "metadata": {
    "colab": {
      "name": "division_trial.ipynb",
      "provenance": []
    },
    "kernelspec": {
      "name": "python3",
      "display_name": "Python 3"
    },
    "accelerator": "GPU"
  },
  "cells": [
    {
      "cell_type": "code",
      "metadata": {
        "id": "kw5-ICjFbTvK",
        "colab_type": "code",
        "colab": {}
      },
      "source": [
        "from numpy import asarray\n",
        "import numpy as np\n",
        "import pickle\n",
        "import keras\n",
        "import warnings\n",
        "import sklearn.model_selection as sk\n",
        "from keras import backend as k\n",
        "from keras.models import Sequential\n",
        "from keras.layers import Activation\n",
        "from keras.layers.core import Dense, Flatten\n",
        "from keras.optimizers import Adam\n",
        "from keras.metrics import categorical_crossentropy\n",
        "from keras.preprocessing.image import ImageDataGenerator\n",
        "from keras.layers.normalization import BatchNormalization\n",
        "from keras.layers.convolutional import *\n",
        "from matplotlib import pyplot as plt\n",
        "from keras.layers.pooling import MaxPooling2D\n",
        "from sklearn.metrics import confusion_matrix\n",
        "import itertools\n",
        "%matplotlib  inline\n",
        "from os import listdir\n",
        "from matplotlib import image\n",
        "import random\n",
        "import matplotlib.pyplot as plt\n",
        "import os\n",
        "import cv2\n",
        "from tqdm import tqdm\n",
        "from keras.layers import Reshape\n",
        "from keras.optimizers import SGD\n",
        "from keras.models import Model\n",
        "from keras.layers import Dense\n",
        "from keras.layers import Flatten\n",
        "from keras.optimizers import SGD\n",
        "from matplotlib import pyplot "
      ],
      "execution_count": 0,
      "outputs": []
    },
    {
      "cell_type": "code",
      "metadata": {
        "id": "Ca56FsVkc09X",
        "colab_type": "code",
        "colab": {}
      },
      "source": [
        "from google.colab import drive\n",
        "drive.mount('/content/drive')"
      ],
      "execution_count": 0,
      "outputs": []
    },
    {
      "cell_type": "code",
      "metadata": {
        "id": "0bCXJe6EbtUP",
        "colab_type": "code",
        "colab": {}
      },
      "source": [
        "%cd \"/content/drive/My Drive/BanglaLekha/images\"\n",
        "%ls"
      ],
      "execution_count": 0,
      "outputs": []
    },
    {
      "cell_type": "code",
      "metadata": {
        "id": "9RsBtk1ebtZT",
        "colab_type": "code",
        "colab": {}
      },
      "source": [
        "path  = \"1/\"\n",
        "DIV_1 = []\n",
        "DIV_2 = []\n",
        "for r, d, file in os.walk(path):\n",
        "    for i in file:\n",
        "        print(i)\n",
        "        if i[0:2]==\"01\":\n",
        "          DIV_1.append(cv2.imread(os.path.join(path,i),cv2.IMREAD_COLOR))\n",
        "        else:\n",
        "          DIV_2.append(cv2.imread(os.path.join(path,i),cv2.IMREAD_COLOR))"
      ],
      "execution_count": 0,
      "outputs": []
    },
    {
      "cell_type": "code",
      "metadata": {
        "id": "Bp7r8o6dbtSx",
        "colab_type": "code",
        "colab": {}
      },
      "source": [
        "Re_DIV1 = []\n",
        "Re_DIV2 = []\n",
        "IMG_SIZE = 128\n",
        "for i in range(len(DIV_1)):\n",
        "  resized = cv2.resize(DIV_1[i],(IMG_SIZE,IMG_SIZE))\n",
        "  Re_DIV1.append(resized)\n",
        "  \n",
        "for i in range(len(DIV_2)):\n",
        "  resized1 = cv2.resize(DIV_2[i],(IMG_SIZE,IMG_SIZE))\n",
        "  Re_DIV2.append(resized1)"
      ],
      "execution_count": 0,
      "outputs": []
    },
    {
      "cell_type": "code",
      "metadata": {
        "id": "QvKrebCdbtRV",
        "colab_type": "code",
        "colab": {}
      },
      "source": [
        "plt.imshow(Re_DIV1[85])\n",
        "plt.show()"
      ],
      "execution_count": 0,
      "outputs": []
    },
    {
      "cell_type": "code",
      "metadata": {
        "id": "2o_XMXCbbtKW",
        "colab_type": "code",
        "colab": {}
      },
      "source": [
        "train = []\n",
        "for i in Re_DIV1:\n",
        "  train.append([i,0])\n",
        "  \n",
        "for i in Re_DIV2:\n",
        "    train.append([i,1])\n",
        "\n",
        "random.shuffle(train)\n",
        "for batch in train[0:50]:\n",
        "    print(batch[1])"
      ],
      "execution_count": 0,
      "outputs": []
    },
    {
      "cell_type": "code",
      "metadata": {
        "id": "TIj-bVwyhYoQ",
        "colab_type": "code",
        "colab": {}
      },
      "source": [
        "X_train =[]\n",
        "Y_train =[]\n",
        "\n",
        "for f,l in train:\n",
        "    X_train.append(f)\n",
        "    Y_train.append(l)"
      ],
      "execution_count": 0,
      "outputs": []
    },
    {
      "cell_type": "code",
      "metadata": {
        "id": "_CNKVzGIhYkM",
        "colab_type": "code",
        "colab": {}
      },
      "source": [
        "IMG_SIZE = 128\n",
        "\n",
        "X_train = np.array(X_train).reshape(-1,IMG_SIZE,IMG_SIZE,3)"
      ],
      "execution_count": 0,
      "outputs": []
    },
    {
      "cell_type": "code",
      "metadata": {
        "id": "Oh-Qw18chYg3",
        "colab_type": "code",
        "outputId": "fb80af29-28d4-432e-98c3-0be1a015a53d",
        "colab": {
          "base_uri": "https://localhost:8080/",
          "height": 34
        }
      },
      "source": [
        "X_train.shape"
      ],
      "execution_count": 0,
      "outputs": [
        {
          "output_type": "execute_result",
          "data": {
            "text/plain": [
              "(1977, 128, 128, 3)"
            ]
          },
          "metadata": {
            "tags": []
          },
          "execution_count": 27
        }
      ]
    },
    {
      "cell_type": "code",
      "metadata": {
        "id": "qt_KL1MUhYbt",
        "colab_type": "code",
        "outputId": "d36748ad-fcb7-451e-84c2-d7df9c80161d",
        "colab": {
          "base_uri": "https://localhost:8080/",
          "height": 34
        }
      },
      "source": [
        "temp_test = Y_train.copy()\n",
        "temp_test  = np.array(temp_test)\n",
        "temp_test.shape"
      ],
      "execution_count": 0,
      "outputs": [
        {
          "output_type": "execute_result",
          "data": {
            "text/plain": [
              "(1977,)"
            ]
          },
          "metadata": {
            "tags": []
          },
          "execution_count": 28
        }
      ]
    },
    {
      "cell_type": "code",
      "metadata": {
        "id": "yHL5Ksq9hhZc",
        "colab_type": "code",
        "colab": {}
      },
      "source": [
        "from keras.applications.vgg16 import VGG16\n",
        "def define_model():\n",
        "\t# load model\n",
        "\tmodel = VGG16(include_top=False, input_shape=(128,128,3))\n",
        "\t# mark loaded layers as not trainable\n",
        "\tfor layer in model.layers:\n",
        "\t\tlayer.trainable = False\n",
        "\t# add new classifier layers\n",
        "\tflat1 = Flatten()(model.layers[-1].output)\n",
        "\tclass1 = Dense(128, activation='relu', kernel_initializer='he_uniform')(flat1)\n",
        "\toutput = Dense(1, activation='sigmoid')(class1)\n",
        "\t# define new model\n",
        "\tmodel = Model(inputs=model.inputs, outputs=output)\n",
        "\t# compile model\n",
        "\topt = SGD(lr=0.001, momentum=0.9)\n",
        "\tmodel.compile(optimizer=opt, loss='binary_crossentropy', metrics=['accuracy'])\n",
        "\treturn model"
      ],
      "execution_count": 0,
      "outputs": []
    },
    {
      "cell_type": "code",
      "metadata": {
        "id": "jzu942m0hhoC",
        "colab_type": "code",
        "colab": {}
      },
      "source": [
        "def summarize_diagnostics(history):\n",
        "\t# plot loss\n",
        "\tpyplot.subplot(211)\n",
        "\tpyplot.title('Cross Entropy Loss')\n",
        "\tpyplot.plot(history.history['loss'], color='blue', label='train')\n",
        "\tpyplot.plot(history.history['val_loss'], color='orange', label='test')\n",
        "\t# plot accuracy\n",
        "\tpyplot.subplot(212)\n",
        "\tpyplot.title('Classification Accuracy')\n",
        "\tpyplot.plot(history.history['accuracy'], color='blue', label='train')\n",
        "\tpyplot.plot(history.history['val_accuracy'], color='orange', label='test')\n",
        "\t# save plot to file\n",
        "\tfilename = sys.argv[0].split('/')[-1]\n",
        "\tpyplot.savefig(filename + '_plot.png') \n",
        "\tpyplot.close()"
      ],
      "execution_count": 0,
      "outputs": []
    },
    {
      "cell_type": "code",
      "metadata": {
        "id": "lz0tE2rMhlpJ",
        "colab_type": "code",
        "colab": {}
      },
      "source": [
        "!ln -sf /opt/bin/nvidia-smi /usr/bin/nvidia-smi\n",
        "!pip install gputil\n",
        "!pip install psutil\n",
        "!pip install humanize\n",
        "import psutil\n",
        "import humanize\n",
        "import os\n",
        "import GPUtil as GPU\n",
        "GPUs = GPU.getGPUs()\n",
        "# XXX: only one GPU on Colab and isn’t guaranteed\n",
        "gpu = GPUs[0]\n",
        "def printm():\n",
        " process = psutil.Process(os.getpid())\n",
        " print(\"Gen RAM Free: \" + humanize.naturalsize( psutil.virtual_memory().available ), \" | Proc size: \" + humanize.naturalsize( process.memory_info().rss))\n",
        " print(\"GPU RAM Free: {0:.0f}MB | Used: {1:.0f}MB | Util {2:3.0f}% | Total {3:.0f}MB\".format(gpu.memoryFree, gpu.memoryUsed, gpu.memoryUtil*100, gpu.memoryTotal))\n",
        "printm() "
      ],
      "execution_count": 0,
      "outputs": []
    },
    {
      "cell_type": "code",
      "metadata": {
        "id": "-5ddw6hGhmC_",
        "colab_type": "code",
        "outputId": "32f2e99e-c75f-437f-c306-3fc7afd1d88d",
        "colab": {
          "base_uri": "https://localhost:8080/",
          "height": 34
        }
      },
      "source": [
        "X_train1, X_test1, y_train, y_test =  sk.train_test_split(X_train,temp_test,test_size=0.3, random_state = 42)\n",
        "\n",
        "y_test.shape"
      ],
      "execution_count": 0,
      "outputs": [
        {
          "output_type": "execute_result",
          "data": {
            "text/plain": [
              "(594,)"
            ]
          },
          "metadata": {
            "tags": []
          },
          "execution_count": 36
        }
      ]
    },
    {
      "cell_type": "code",
      "metadata": {
        "id": "m1ASGey1hl9h",
        "colab_type": "code",
        "colab": {}
      },
      "source": [
        "def run_test_harness():\n",
        "\t# define model\n",
        "\tmodel = define_model()\n",
        "\thistory = model.fit(X_train1, y_train, batch_size=100, epochs=35,verbose = 1)\n",
        "\tfilename = 'division_finalized_model.sav'\n",
        "\tpickle.dump(model, open(filename, 'wb'))\t\n",
        "\t# evaluate model\n",
        "\t_, acc = model.evaluate(X_test1, y_test, verbose=1)\n",
        "\tprint('> %.3f' % (acc * 100.0))\n",
        "\t# learning curves\n",
        "\tsummarize_diagnostics(history)"
      ],
      "execution_count": 0,
      "outputs": []
    },
    {
      "cell_type": "code",
      "metadata": {
        "id": "yXUOGPBWhl6M",
        "colab_type": "code",
        "colab": {}
      },
      "source": [
        "run_test_harness()"
      ],
      "execution_count": 0,
      "outputs": []
    },
    {
      "cell_type": "code",
      "metadata": {
        "id": "IHzoRrv1hlyc",
        "colab_type": "code",
        "outputId": "26912a51-6583-4179-8295-0cb2d13b494f",
        "colab": {
          "base_uri": "https://localhost:8080/",
          "height": 51
        }
      },
      "source": [
        "loaded_model = pickle.load(open('division_finalized_model.sav', 'rb'))\n",
        "result = loaded_model.evaluate(X_test1, y_test)\n",
        "print(result)"
      ],
      "execution_count": 0,
      "outputs": [
        {
          "output_type": "stream",
          "text": [
            "594/594 [==============================] - 1s 2ms/step\n",
            "[6.17297751975782, 0.6127946125939238]\n"
          ],
          "name": "stdout"
        }
      ]
    }
  ]
}